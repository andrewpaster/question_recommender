{
 "cells": [
  {
   "cell_type": "code",
   "execution_count": 1,
   "metadata": {},
   "outputs": [],
   "source": [
    "import spacy\n",
    "import pandas as pd"
   ]
  },
  {
   "cell_type": "code",
   "execution_count": 2,
   "metadata": {},
   "outputs": [],
   "source": [
    "phrase_list = [\"Marriage fighting\", \"I'm not sure what to do\", \"my health\", \"Traveling on the subway to work\"]"
   ]
  },
  {
   "cell_type": "code",
   "execution_count": 3,
   "metadata": {},
   "outputs": [],
   "source": [
    "df = pd.read_csv('stress_management_mturk.csv')"
   ]
  },
  {
   "cell_type": "code",
   "execution_count": 4,
   "metadata": {},
   "outputs": [],
   "source": [
    "# replace missing value\n",
    "df.loc[df.index == 12, 'Stress3Ex'] = 'None given'"
   ]
  },
  {
   "cell_type": "code",
   "execution_count": 5,
   "metadata": {},
   "outputs": [],
   "source": [
    "# put the stressors, examples, and strategies into separate dataframes\n",
    "stresses = pd.concat([df['Stress1'], df['Stress2'], df['Stress3']], axis=0).reset_index(drop=True)\n",
    "examples = pd.concat([df['Stress1Ex'], df['Stress2Ex'], df['Stress3Ex']], axis=0).reset_index(drop=True)\n",
    "strategy = pd.concat([df['Strategy1'], df['Strategy2'], df['Strategy3']], axis=0).reset_index(drop=True)"
   ]
  },
  {
   "cell_type": "code",
   "execution_count": 6,
   "metadata": {},
   "outputs": [],
   "source": [
    "# load the spacy model\n",
    "nlp = spacy.load('en_core_web_lg')\n",
    "\n",
    "# fixes the issue with the spacy library where stop words are not included with the model\n",
    "for word in nlp.Defaults.stop_words:\n",
    "    nlp.vocab[word].is_stop = True"
   ]
  },
  {
   "cell_type": "code",
   "execution_count": 7,
   "metadata": {},
   "outputs": [],
   "source": [
    "def find_similar_phrase(search_phrase, phrases):\n",
    "    \"\"\"finds similar phrases in the corpus to this phrase\n",
    "    \n",
    "    Args: \n",
    "        search_phrase (str): \n",
    "        phrases (list): list of strings to compare with the search_phrase\n",
    "        \n",
    "    Returns:\n",
    "        results (list): similarity scores for all documents in the \n",
    "    \n",
    "    \"\"\"\n",
    "    results = []\n",
    "    doc2 = nlp(search_phrase)\n",
    "    for phrase in phrases:\n",
    "        doc1 = nlp(phrase)\n",
    "        results.append(doc1.similarity(doc2)) # stores similarity between the phrase and all other phrases in corpus\n",
    "        \n",
    "    return results"
   ]
  },
  {
   "cell_type": "code",
   "execution_count": 8,
   "metadata": {},
   "outputs": [],
   "source": [
    "# separate short phrases and long phrases\n",
    "short_phrases = pd.concat([df['Stress1'],\n",
    "                     df['Stress2'], \n",
    "                     df['Stress3']]).reset_index(drop=True)\n",
    "\n",
    "long_phrases = pd.concat([df['Stress1Ex'],\n",
    "                     df['Stress2Ex'], \n",
    "                     df['Stress3Ex']]).reset_index(drop=True)"
   ]
  },
  {
   "cell_type": "code",
   "execution_count": 9,
   "metadata": {},
   "outputs": [],
   "source": [
    "def find_similar(similar_phrase):\n",
    "    \"\"\"find top 5 similar phrases and output the solution\"\"\"\n",
    "    # differentiates between longer phrases and shorter phrases\n",
    "    if len(similar_phrase.split(' ')) < 5:\n",
    "        results = find_similar_phrase(similar_phrase, short_phrases)\n",
    "    else:\n",
    "        results = find_similar_phrase(similar_phrase, long_phrases)\n",
    "\n",
    "    best_matches = sorted(list(enumerate(results)), key=lambda x:-x[1])[0:5]\n",
    "    print('original phrase', similar_phrase)\n",
    "    for result in [x[0] for x in best_matches]:\n",
    "        print('strategy:', strategy[result])\n",
    "\n",
    "        if len(similar_phrase.split(' ')) < 5:\n",
    "            print('matching short phrase:', short_phrases[result])\n",
    "        else:\n",
    "            print('matching long phrase:', long_phrases[result])\n",
    "        print()\n",
    "    print()"
   ]
  },
  {
   "cell_type": "code",
   "execution_count": 10,
   "metadata": {},
   "outputs": [
    {
     "name": "stdout",
     "output_type": "stream",
     "text": [
      "original phrase Marriage fighting\n",
      "strategy: Focus on the good things. Let the bad things slide.\n",
      "matching short phrase: Marriage\n",
      "\n",
      "strategy: prayer\n",
      "matching short phrase: Marriage\n",
      "\n",
      "strategy: Seeking marriage counseling\n",
      "matching short phrase: Marriage\n",
      "\n",
      "strategy: Taking a drive is my solution.\n",
      "matching short phrase: Marriage\n",
      "\n",
      "strategy: listening soft music\n",
      "matching short phrase: marriage\n",
      "\n",
      "\n",
      "original phrase I'm not sure what to do\n",
      "strategy: Work more\n",
      "matching long phrase: Not enough to do what I want to\n",
      "\n",
      "strategy: I try to stick to a schedule in order too get tasks done in a timely manner\n",
      "matching long phrase: I often feel like I don't have enough time to get everything done  \n",
      "\n",
      "strategy: Go anywhere to be alone.\n",
      "matching long phrase: He's aways thinking i'mdoing things that i'm don't need to be doing.\n",
      "\n",
      "strategy: Try to anticipate what's going to be required of me beforehand so I'm ready for it, and always remember to be malleable\n",
      "matching long phrase: there is always something going on here, somebody needs me to do something I can't do or be somewhere I can't be\n",
      "\n",
      "strategy: Try and volunteer for stuff at work.\n",
      "matching long phrase: I don't have much work to do and I don't talk to people\n",
      "\n",
      "\n",
      "original phrase my health\n",
      "strategy: I have notice that eating less reduces the asthma, It has improved in some degree\n",
      "matching short phrase: My health\n",
      "\n",
      "strategy: To eat healthy and exercise. \n",
      "matching short phrase: My health\n",
      "\n",
      "strategy: smoking \n",
      "matching short phrase: My health\n",
      "\n",
      "strategy: I take long baths, follow up with the dr and read to relax\n",
      "matching short phrase: My health\n",
      "\n",
      "strategy: take long walks\n",
      "matching short phrase: my health \n",
      "\n",
      "\n",
      "original phrase Traveling on the subway to work\n",
      "strategy: I try to leave for work early. \n",
      "matching long phrase: My daily commute from home to work and back is so stressful most of the time. \n",
      "\n",
      "strategy: to leave more early\n",
      "matching long phrase: driving in early morning from home to work in crazy traffic. \n",
      "\n",
      "strategy: I listen to the Calm app in my car and I also leave to go to work much earlier to shorten my commute.\n",
      "matching long phrase: I have to drive in bad traffic about forty five minutes to and from work.\n",
      "\n",
      "strategy: I have tried to reschedule things so I can have periodic down time.\n",
      "matching long phrase: It is hard to go from work to other obligations on time.\n",
      "\n",
      "strategy: Soothing music, leave time to get to destination.\n",
      "matching long phrase: Lots of traffic each way to work, kids school\n",
      "\n",
      "\n"
     ]
    }
   ],
   "source": [
    "for phrase in phrase_list:\n",
    "    find_similar(phrase)"
   ]
  },
  {
   "cell_type": "code",
   "execution_count": null,
   "metadata": {},
   "outputs": [],
   "source": []
  }
 ],
 "metadata": {
  "kernelspec": {
   "display_name": "Root env",
   "language": "python",
   "name": "root"
  },
  "language_info": {
   "codemirror_mode": {
    "name": "ipython",
    "version": 3
   },
   "file_extension": ".py",
   "mimetype": "text/x-python",
   "name": "python",
   "nbconvert_exporter": "python",
   "pygments_lexer": "ipython3",
   "version": "3.7.0"
  }
 },
 "nbformat": 4,
 "nbformat_minor": 2
}
